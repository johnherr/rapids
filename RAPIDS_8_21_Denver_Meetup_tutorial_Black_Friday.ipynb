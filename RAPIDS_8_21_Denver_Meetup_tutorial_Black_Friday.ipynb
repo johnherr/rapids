{
  "nbformat": 4,
  "nbformat_minor": 0,
  "metadata": {
    "kernelspec": {
      "display_name": "Python 3",
      "language": "python",
      "name": "python3"
    },
    "language_info": {
      "codemirror_mode": {
        "name": "ipython",
        "version": 3
      },
      "file_extension": ".py",
      "mimetype": "text/x-python",
      "name": "python",
      "nbconvert_exporter": "python",
      "pygments_lexer": "ipython3",
      "version": "3.6.7"
    },
    "colab": {
      "name": "RAPIDS 8/21 Denver Meetup tutorial- Black Friday.ipynb",
      "version": "0.3.2",
      "provenance": [],
      "collapsed_sections": [],
      "include_colab_link": true
    }
  },
  "cells": [
    {
      "cell_type": "markdown",
      "metadata": {
        "id": "view-in-github",
        "colab_type": "text"
      },
      "source": [
        "<a href=\"https://colab.research.google.com/github/johnherr/rapids/blob/master/RAPIDS_8_21_Denver_Meetup_tutorial_Black_Friday.ipynb\" target=\"_parent\"><img src=\"https://colab.research.google.com/assets/colab-badge.svg\" alt=\"Open In Colab\"/></a>"
      ]
    },
    {
      "cell_type": "markdown",
      "metadata": {
        "id": "CLSFLaB9sGzU",
        "colab_type": "text"
      },
      "source": [
        "# RAPIDS 8/21 Denver Meetup @ Galvanize"
      ]
    },
    {
      "cell_type": "code",
      "metadata": {
        "id": "NObDAWcEr-M0",
        "colab_type": "code",
        "colab": {}
      },
      "source": [
        "!wget -nc https://github.com/rapidsai/notebooks-extended/raw/master/utils/rapids-colab.sh\n",
        "!bash rapids-colab.sh\n",
        "!wget https://datahack-prod.s3.amazonaws.com/train_zip/train_oSwQCTC.zip -O train.zip\n",
        "import sys, os\n",
        "\n",
        "sys.path.append('/usr/local/lib/python3.6/site-packages/')\n",
        "os.environ['NUMBAPRO_NVVM'] = '/usr/local/cuda/nvvm/lib64/libnvvm.so'\n",
        "os.environ['NUMBAPRO_LIBDEVICE'] = '/usr/local/cuda/nvvm/libdevice/'"
      ],
      "execution_count": 0,
      "outputs": []
    },
    {
      "cell_type": "code",
      "metadata": {
        "id": "kjVe9SJdyUSA",
        "colab_type": "code",
        "colab": {}
      },
      "source": [
        "!ls\n",
        "!unzip train.zip"
      ],
      "execution_count": 0,
      "outputs": []
    },
    {
      "cell_type": "code",
      "metadata": {
        "id": "2FZxczVEr9VI",
        "colab_type": "code",
        "colab": {}
      },
      "source": [
        "import cuml\n",
        "import cudf\n",
        "import nvcategory\n",
        "\n",
        "import xgboost as xgb\n",
        "import pandas as pd\n",
        "import numpy as np\n",
        "from math import sqrt\n",
        "from sklearn.metrics import mean_squared_error, roc_auc_score"
      ],
      "execution_count": 0,
      "outputs": []
    },
    {
      "cell_type": "code",
      "metadata": {
        "id": "1Imclcgzr9VN",
        "colab_type": "code",
        "colab": {}
      },
      "source": [
        "#Read in the data. Notice how it decompresses as it reads the data into memory. \n",
        "gdf = cudf.read_csv('train.csv') #assumes that you put the zip file in the root folder"
      ],
      "execution_count": 0,
      "outputs": []
    },
    {
      "cell_type": "code",
      "metadata": {
        "id": "v9r-9Amwr9VQ",
        "colab_type": "code",
        "colab": {}
      },
      "source": [
        "#Taking a look at the data. We use \"to_pandas()\" to get the pretty printing. \n",
        "gdf.head().to_pandas()"
      ],
      "execution_count": 0,
      "outputs": []
    },
    {
      "cell_type": "code",
      "metadata": {
        "id": "5OMuC_Slr9VU",
        "colab_type": "code",
        "colab": {}
      },
      "source": [
        "#Exercise: Let's do some descriptive statistics "
      ],
      "execution_count": 0,
      "outputs": []
    },
    {
      "cell_type": "code",
      "metadata": {
        "id": "YiQriMl-r9VX",
        "colab_type": "code",
        "colab": {}
      },
      "source": [
        "#Hint: try some of the function you may know from Pandas like DataFrame.Series.max() or look up the documentation here:"
      ],
      "execution_count": 0,
      "outputs": []
    },
    {
      "cell_type": "code",
      "metadata": {
        "id": "omO3vVp1r9Va",
        "colab_type": "code",
        "colab": {}
      },
      "source": [
        "#grabbing the first character of the years in city string to get rid of plus sign, and converting to int\n",
        "gdf['city_years'] = gdf.Stay_In_Current_City_Years.str.get(0)"
      ],
      "execution_count": 0,
      "outputs": []
    },
    {
      "cell_type": "code",
      "metadata": {
        "id": "ctRD1zPvr9Vd",
        "colab_type": "code",
        "colab": {}
      },
      "source": [
        "#Here we can see how we can control what the value of our dummies with the replace method and turn strings to ints\n",
        "gdf['City_Category'] = gdf.City_Category.str.replace('A', '1')\n",
        "gdf['City_Category'] = gdf.City_Category.str.replace('B', '2')\n",
        "gdf['City_Category'] = gdf.City_Category.str.replace('C', '3')\n",
        "gdf['City_Category'] = gdf['City_Category'].str.stoi()"
      ],
      "execution_count": 0,
      "outputs": []
    },
    {
      "cell_type": "code",
      "metadata": {
        "id": "SBS7nPUUr9Vg",
        "colab_type": "code",
        "colab": {}
      },
      "source": [
        "#EXERCISE: replace city in the same way as City Category"
      ],
      "execution_count": 0,
      "outputs": []
    },
    {
      "cell_type": "code",
      "metadata": {
        "id": "5Jszsvutr9Vk",
        "colab_type": "code",
        "colab": {}
      },
      "source": [
        "#Hint: the Gender column only has values 'M' and 'F'"
      ],
      "execution_count": 0,
      "outputs": []
    },
    {
      "cell_type": "code",
      "metadata": {
        "id": "Kom2rqrwr9Vp",
        "colab_type": "code",
        "colab": {}
      },
      "source": [
        "#Solution\n",
        "gdf['Gender'] = gdf.Gender.str.replace('F', '1')\n",
        "gdf['Gender'] = gdf.Gender.str.replace('M', '0')\n",
        "gdf['Gender'] = gdf.Gender.str.stoi()"
      ],
      "execution_count": 0,
      "outputs": []
    },
    {
      "cell_type": "code",
      "metadata": {
        "id": "Vob_SVh1r9Vu",
        "colab_type": "code",
        "colab": {}
      },
      "source": [
        "#Let's take a look at how many products we have\n",
        "prod_count = cudf.Series(nvcategory.from_strings(gdf.Product_ID.data).values()).unique().count() #hideous one-liner\n",
        "print(\"Unique Products: {}\".format(prod_count))"
      ],
      "execution_count": 0,
      "outputs": []
    },
    {
      "cell_type": "code",
      "metadata": {
        "id": "OzU4oqyrr9Vx",
        "colab_type": "code",
        "colab": {}
      },
      "source": [
        "#Let's take a look at how many primary product categories we have\n",
        "#We do it differently here because the variable is a number, not a string\n",
        "prod1_count = gdf.Product_Category_1.unique().count()\n",
        "print(\"Unique Product Categories: {}\".format(prod1_count))"
      ],
      "execution_count": 0,
      "outputs": []
    },
    {
      "cell_type": "code",
      "metadata": {
        "id": "7dYhrmLtr9V0",
        "colab_type": "code",
        "colab": {}
      },
      "source": [
        "#Filling missing values\n",
        "gdf['Product_Category_2'] = gdf['Product_Category_2'].fillna(0)"
      ],
      "execution_count": 0,
      "outputs": []
    },
    {
      "cell_type": "code",
      "metadata": {
        "id": "ux4s3xmqr9V2",
        "colab_type": "code",
        "colab": {}
      },
      "source": [
        "#EXERCISE: Make a variable that's 1 if the product is multi-category, 0 otherwise"
      ],
      "execution_count": 0,
      "outputs": []
    },
    {
      "cell_type": "code",
      "metadata": {
        "id": "LWLDt7DYr9V5",
        "colab_type": "code",
        "colab": {}
      },
      "source": [
        "#Hint: think about how to combine the Product Category 2 and Product Category 3"
      ],
      "execution_count": 0,
      "outputs": []
    },
    {
      "cell_type": "code",
      "metadata": {
        "id": "gYBUOUb7r9V7",
        "colab_type": "code",
        "colab": {}
      },
      "source": [
        "#Solution: \n",
        "gdf['Product_Category_3'] = gdf['Product_Category_3'].fillna(0)\n",
        "gdf['multi'] = ((gdf['Product_Category_2'] + gdf['Product_Category_3'])>0).astype('int')"
      ],
      "execution_count": 0,
      "outputs": []
    },
    {
      "cell_type": "code",
      "metadata": {
        "id": "jyMck4ZAr9V9",
        "colab_type": "code",
        "colab": {}
      },
      "source": [
        "#EXERCISE: Create a Gender/Marital Status Interaction Effect"
      ],
      "execution_count": 0,
      "outputs": []
    },
    {
      "cell_type": "code",
      "metadata": {
        "id": "xRPkeb9Vr9V_",
        "colab_type": "code",
        "colab": {}
      },
      "source": [
        "#Hint: bother Gender and Marital Status are 0/1"
      ],
      "execution_count": 0,
      "outputs": []
    },
    {
      "cell_type": "code",
      "metadata": {
        "id": "x6cvXYlCr9WB",
        "colab_type": "code",
        "colab": {}
      },
      "source": [
        "#Solution:\n",
        "gdf['gen_mar_interaction'] = gdf['Gender']*gdf['Marital_Status']"
      ],
      "execution_count": 0,
      "outputs": []
    },
    {
      "cell_type": "code",
      "metadata": {
        "id": "e-w7YLHar9WE",
        "colab_type": "code",
        "colab": {}
      },
      "source": [
        "#Because Occupation is a code, it should converted into indicator variables\n",
        "gdf = gdf.one_hot_encoding('Occupation', 'occ_dummy', gdf.Occupation.unique())"
      ],
      "execution_count": 0,
      "outputs": []
    },
    {
      "cell_type": "code",
      "metadata": {
        "id": "FGU1TKKRr9WK",
        "colab_type": "code",
        "colab": {}
      },
      "source": [
        "#Dummy variable from Int\n",
        "gdf = gdf.one_hot_encoding('City_Category', 'city_cat', gdf.City_Category.unique())\n",
        "\n",
        "#Dummy from string\n",
        "cat = nvcategory.from_strings(gdf.Age.data)\n",
        "gdf['Age'] = cudf.Series(cat.values())\n",
        "gdf = gdf.one_hot_encoding('Age', 'age', gdf.Age.unique())\n",
        "\n",
        "#EXERCISE: Create dummy variables from Product Category 1"
      ],
      "execution_count": 0,
      "outputs": []
    },
    {
      "cell_type": "code",
      "metadata": {
        "id": "OylFC4oXr9WW",
        "colab_type": "code",
        "colab": {}
      },
      "source": [
        "#Solution:\n",
        "gdf = gdf.one_hot_encoding('Product_Category_1', 'product', gdf.Product_Category_1.unique())"
      ],
      "execution_count": 0,
      "outputs": []
    },
    {
      "cell_type": "code",
      "metadata": {
        "id": "5Ma7L_-br9Wc",
        "colab_type": "code",
        "colab": {}
      },
      "source": [
        "#We're going to drop th variables we've transformed\n",
        "drop_list = ['User_ID', 'Age', 'Stay_In_Current_City_Years', 'City_Category','Product_ID', 'Product_Category_1', 'Product_Category_2', 'Product_Category_3']\n",
        "gdf = gdf.drop(drop_list)"
      ],
      "execution_count": 0,
      "outputs": []
    },
    {
      "cell_type": "code",
      "metadata": {
        "id": "r0J3LCo5r9Wh",
        "colab_type": "code",
        "colab": {}
      },
      "source": [
        "#We're going to make a list of all the first indicator variables in a series now so it will be\n",
        "#easier to exclude them when we're doing regressions later"
      ],
      "execution_count": 0,
      "outputs": []
    },
    {
      "cell_type": "code",
      "metadata": {
        "id": "J2xEmiQbr9Wl",
        "colab_type": "code",
        "colab": {}
      },
      "source": [
        "dummy_list = ['occ_dummy_0', 'city_cat_1', 'age_0', 'product_1', 'Purchase']"
      ],
      "execution_count": 0,
      "outputs": []
    },
    {
      "cell_type": "code",
      "metadata": {
        "id": "6KXsM888r9Wp",
        "colab_type": "code",
        "colab": {}
      },
      "source": [
        "#All variables currently have to have the same type for some methods in cuML\n",
        "for col in gdf.columns.tolist():\n",
        "    gdf[col] = gdf[col].astype('float32')"
      ],
      "execution_count": 0,
      "outputs": []
    },
    {
      "cell_type": "code",
      "metadata": {
        "id": "hQ62_2Mcr9Ws",
        "colab_type": "code",
        "colab": {}
      },
      "source": [
        "test_size = round(len(gdf)*0.2)\n",
        "train_size = round(len(gdf)-test_size)"
      ],
      "execution_count": 0,
      "outputs": []
    },
    {
      "cell_type": "code",
      "metadata": {
        "id": "rmNl03vyr9Wu",
        "colab_type": "code",
        "colab": {}
      },
      "source": [
        "test = gdf.iloc[0:test_size]"
      ],
      "execution_count": 0,
      "outputs": []
    },
    {
      "cell_type": "code",
      "metadata": {
        "id": "wJtGGtYVr9W0",
        "colab_type": "code",
        "colab": {}
      },
      "source": [
        "#EXERCISE: Make the test set in a similar way"
      ],
      "execution_count": 0,
      "outputs": []
    },
    {
      "cell_type": "code",
      "metadata": {
        "id": "ixfu36LVr9W9",
        "colab_type": "code",
        "colab": {}
      },
      "source": [
        "#Solution:\n",
        "gdf_train = gdf.iloc[train_size:]"
      ],
      "execution_count": 0,
      "outputs": []
    },
    {
      "cell_type": "code",
      "metadata": {
        "id": "WktKtL71r9XE",
        "colab_type": "code",
        "colab": {}
      },
      "source": [
        "#Deleting the main gdf because we're going to be making other subsets and other stuff, so it will be nice to have the memory. \n",
        "del(gdf)"
      ],
      "execution_count": 0,
      "outputs": []
    },
    {
      "cell_type": "code",
      "metadata": {
        "id": "3_bs_USvr9XK",
        "colab_type": "code",
        "colab": {}
      },
      "source": [
        "y_train = gdf_train['Purchase']\n",
        "X_reg = gdf_train.drop(dummy_list)"
      ],
      "execution_count": 0,
      "outputs": []
    },
    {
      "cell_type": "code",
      "metadata": {
        "id": "EWo0VUsHr9XQ",
        "colab_type": "code",
        "colab": {}
      },
      "source": [
        "# # I'm going to perform a hyperparameter search for alpha in a ridge regression\n",
        "output = {}\n",
        "for alpha in np.around(np.arange(0.1, 10, 0.1), decimals=2):\n",
        "    \n",
        "    Ridge = cuml.Ridge(alpha=alpha, fit_intercept=True)\n",
        "    _fit = Ridge.fit(X_reg, y_train)\n",
        "    _y_hat = _fit.predict(X_reg)\n",
        "    _mse = sqrt((y_train.reset_index(drop=True).sub(_y_hat)**2).sum())\n",
        "    output['MSE_RIDGE_{}'.format(alpha)] = _mse\n",
        "\n",
        "print('MAX AUC: {}'.format(min(output, key=output.get)))"
      ],
      "execution_count": 0,
      "outputs": []
    },
    {
      "cell_type": "code",
      "metadata": {
        "id": "iUjlT1LCr9XU",
        "colab_type": "code",
        "colab": {}
      },
      "source": [
        "Ridge = cuml.Ridge(alpha=.1, fit_intercept=True)\n",
        "_fit = Ridge.fit(X_reg, y_train)\n",
        "_y_hat = _fit.predict(X_reg)\n",
        "_mse = sqrt((y_train.reset_index(drop=True).sub(_y_hat)**2).sum())\n",
        "print('{:,}'.format(_mse))"
      ],
      "execution_count": 0,
      "outputs": []
    },
    {
      "cell_type": "code",
      "metadata": {
        "id": "ZMyhm2yqr9XX",
        "colab_type": "code",
        "colab": {}
      },
      "source": [
        "y_train.max()"
      ],
      "execution_count": 0,
      "outputs": []
    },
    {
      "cell_type": "code",
      "metadata": {
        "id": "mRn00BGnr9Xa",
        "colab_type": "code",
        "colab": {}
      },
      "source": [
        "y_xgb = gdf_train[['Purchase']]\n",
        "X_xgb = gdf_train.drop('Purchase')\n",
        "xgb_train_set = xgb.DMatrix(data=X_xgb, label=y_xgb)"
      ],
      "execution_count": 0,
      "outputs": []
    },
    {
      "cell_type": "code",
      "metadata": {
        "id": "QkLqFx3cr9Xd",
        "colab_type": "code",
        "colab": {}
      },
      "source": [
        "xgb_params = {\n",
        "    'nround':100,\n",
        "    'max_depth':4,\n",
        "    'max_leaves':2**4,\n",
        "    'tree_method':'gpu_hist',\n",
        "    'n_gpus':1,\n",
        "    'loss':'ls',\n",
        "    'objective':'reg:squarederror',\n",
        "    'max_features':'auto',\n",
        "    'criterion':'friedman_mse',\n",
        "    'grow_policy':'lossguide',\n",
        "    'verbose':True\n",
        "}"
      ],
      "execution_count": 0,
      "outputs": []
    },
    {
      "cell_type": "code",
      "metadata": {
        "id": "-A7rxAhLr9Xf",
        "colab_type": "code",
        "colab": {}
      },
      "source": [
        "xgb_model = xgb.train(xgb_params, dtrain=xgb_train_set)"
      ],
      "execution_count": 0,
      "outputs": []
    },
    {
      "cell_type": "code",
      "metadata": {
        "id": "ZCqlMeiGr9Xi",
        "colab_type": "code",
        "colab": {}
      },
      "source": [
        "y_hat_xgb = xgb_model.predict(xgb_train_set)"
      ],
      "execution_count": 0,
      "outputs": []
    },
    {
      "cell_type": "code",
      "metadata": {
        "id": "dDXvzrt6r9Xl",
        "colab_type": "code",
        "colab": {}
      },
      "source": [
        "RMSE = np.sqrt(mean_squared_error(y_xgb['Purchase'].to_pandas(), y_hat_xgb)) #get out of sample RMSE too"
      ],
      "execution_count": 0,
      "outputs": []
    },
    {
      "cell_type": "code",
      "metadata": {
        "id": "t7Thzeeer9Xn",
        "colab_type": "code",
        "colab": {}
      },
      "source": [
        "print(RMSE)"
      ],
      "execution_count": 0,
      "outputs": []
    },
    {
      "cell_type": "code",
      "metadata": {
        "id": "pPINlzX3r9Xp",
        "colab_type": "code",
        "colab": {}
      },
      "source": [
        "#EXERCISE: Change XGB around to predict if someone is married based on the data we have"
      ],
      "execution_count": 0,
      "outputs": []
    },
    {
      "cell_type": "code",
      "metadata": {
        "id": "EZQZt1mgr9Xq",
        "colab_type": "code",
        "colab": {}
      },
      "source": [
        "#Hint: in the xgb parameters, change the objective function to 'reg:logistic'"
      ],
      "execution_count": 0,
      "outputs": []
    },
    {
      "cell_type": "code",
      "metadata": {
        "id": "V-ZhiewFr9Xs",
        "colab_type": "code",
        "colab": {}
      },
      "source": [
        "#Solution\n",
        "y_xgb = gdf_train[['Marital_Status']]\n",
        "X_xgb = gdf_train.drop('Marital_Status')\n",
        "xgb_train_set = xgb.DMatrix(data=X_xgb, label=y_xgb)\n",
        "\n",
        "xgb_params = {\n",
        "    'nround':100,\n",
        "    'max_depth':10,\n",
        "    'max_leaves':2**4,\n",
        "    'tree_method':'gpu_hist',\n",
        "    'n_gpus':1,\n",
        "    'loss':'ls',\n",
        "    'objective':'reg:logistic',\n",
        "    'criterion':'auc',\n",
        "    'verbose':True\n",
        "}\n",
        "\n",
        "xgb_model = xgb.train(xgb_params, dtrain=xgb_train_set)\n",
        "y_hat_xgb = xgb_model.predict(xgb_train_set)\n",
        "AUC = roc_auc_score(y_xgb['Marital_Status'].to_pandas(), y_hat_xgb)\n",
        "print(AUC)"
      ],
      "execution_count": 0,
      "outputs": []
    },
    {
      "cell_type": "code",
      "metadata": {
        "id": "zFdYUCHyr9Xu",
        "colab_type": "code",
        "colab": {}
      },
      "source": [
        "#EXTRA EXERCISE: Apply kNN to the customers\n",
        "#EXTRA EXERCISE: Apply PCA to data"
      ],
      "execution_count": 0,
      "outputs": []
    }
  ]
}